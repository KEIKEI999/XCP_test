{
 "cells": [
  {
   "cell_type": "markdown",
   "metadata": {},
   "source": [
    "## 各種import"
   ]
  },
  {
   "cell_type": "code",
   "execution_count": 1,
   "metadata": {},
   "outputs": [],
   "source": [
    "from io import StringIO\n",
    "from pyxcp.config import readConfiguration\n",
    "from pyxcp import transport\n",
    "from pyxcp.transport.candriver.pc_vector import Vector # \"CAN_DRIVER\": \"Vector\"を指定する場合に必要\n",
    "from pyxcp.master import Master\n",
    "from collections import namedtuple\n",
    "import time"
   ]
  },
  {
   "cell_type": "markdown",
   "metadata": {},
   "source": [
    "## コンフィグレーションパラメータ(JSON文字列)の作成と読み込み"
   ]
  },
  {
   "cell_type": "code",
   "execution_count": 2,
   "metadata": {},
   "outputs": [],
   "source": [
    "JSON = \"\"\"{\n",
    "\"TRANSPORT\": \"CAN\",\n",
    "\"CAN_DRIVER\": \"Vector\",\n",
    "\"CAN_USE_DEFAULT_LISTENER\": true,\n",
    "\"CHANNEL\": \"0\",\n",
    "\"CAN_ID_MASTER\": 2,\n",
    "\"CAN_ID_SLAVE\": 1,\n",
    "\"CAN_ID_BROADCAST\": 256,\n",
    "\"MAX_DLC_REQUIRED\": false,\n",
    "\"CREATE_DAQ_TIMESTAMPS\": true,\n",
    "\"BITRATE\": 500000,\n",
    "\"FD\":true,\n",
    "\"DATA_BITRATE\": 2000000,\n",
    "\"APP_NAME\": \"PyXCP-CANFD\"\n",
    "}\"\"\"\n",
    "CONF_JSON = StringIO(JSON)\n",
    "CONF_JSON.name = \"conf_can_vector.json\"\n",
    "CONFIG = readConfiguration(CONF_JSON)"
   ]
  },
  {
   "cell_type": "markdown",
   "metadata": {},
   "source": [
    "## コンフィグレーションを元にXCPマスターの生成"
   ]
  },
  {
   "cell_type": "code",
   "execution_count": 3,
   "metadata": {},
   "outputs": [],
   "source": [
    "xm=Master('can',config=CONFIG)"
   ]
  },
  {
   "cell_type": "markdown",
   "metadata": {},
   "source": [
    "## CONNECT"
   ]
  },
  {
   "cell_type": "code",
   "execution_count": 4,
   "metadata": {
    "scrolled": true
   },
   "outputs": [
    {
     "name": "stdout",
     "output_type": "stream",
     "text": [
      "Container: \n",
      "    resource = Container: \n",
      "        dbg = False\n",
      "        pgm = False\n",
      "        stim = True\n",
      "        daq = True\n",
      "        calpag = False\n",
      "    commModeBasic = Container: \n",
      "        optional = True\n",
      "        slaveBlockMode = False\n",
      "        addressGranularity = (enum) BYTE 0\n",
      "        byteOrder = (enum) INTEL 0\n",
      "    maxCto = 64\n",
      "    maxDto = 64\n",
      "    protocolLayerVersion = 16\n",
      "    transportLayerVersion = 16\n"
     ]
    }
   ],
   "source": [
    "conn = xm.connect()\n",
    "print(conn)"
   ]
  },
  {
   "cell_type": "code",
   "execution_count": 5,
   "metadata": {},
   "outputs": [
    {
     "name": "stdout",
     "output_type": "stream",
     "text": [
      "calpag = False\n",
      "daq = True\n",
      "pgm = False\n",
      "stim = True\n"
     ]
    }
   ],
   "source": [
    "print(\"calpag =\", xm.slaveProperties.supportsCalpag)\n",
    "print(\"daq =\", xm.slaveProperties.supportsDaq)\n",
    "print(\"pgm =\", xm.slaveProperties.supportsPgm)\n",
    "print(\"stim =\", xm.slaveProperties.supportsStim)"
   ]
  },
  {
   "cell_type": "markdown",
   "metadata": {},
   "source": [
    "## GET_STATUS"
   ]
  },
  {
   "cell_type": "code",
   "execution_count": 6,
   "metadata": {},
   "outputs": [
    {
     "name": "stdout",
     "output_type": "stream",
     "text": [
      "Container: \n",
      "    sessionStatus = Container: \n",
      "        resume = False\n",
      "        daqRunning = False\n",
      "        clearDaqRequest = False\n",
      "        storeDaqRequest = False\n",
      "        storeCalRequest = False\n",
      "    resourceProtectionStatus = Container: \n",
      "        dbg = False\n",
      "        pgm = False\n",
      "        stim = False\n",
      "        daq = False\n",
      "        calpag = False\n",
      "    sessionConfiguration = 0\n"
     ]
    }
   ],
   "source": [
    "status=xm.getStatus()\n",
    "print(status)"
   ]
  },
  {
   "cell_type": "markdown",
   "metadata": {},
   "source": [
    "## SYNCH"
   ]
  },
  {
   "cell_type": "code",
   "execution_count": 7,
   "metadata": {},
   "outputs": [
    {
     "name": "stdout",
     "output_type": "stream",
     "text": [
      "bytearray(b'\\x00')\n"
     ]
    }
   ],
   "source": [
    "res=xm.synch()\n",
    "print(res)"
   ]
  },
  {
   "cell_type": "markdown",
   "metadata": {},
   "source": [
    "## GET_COMM_MODE_INFO"
   ]
  },
  {
   "cell_type": "code",
   "execution_count": 8,
   "metadata": {
    "scrolled": true
   },
   "outputs": [
    {
     "name": "stdout",
     "output_type": "stream",
     "text": [
      "Container: \n",
      "    commModeOptional = Container: \n",
      "        interleavedMode = False\n",
      "        masterBlockMode = False\n",
      "    maxBs = 99\n",
      "    minSt = 0\n",
      "    queueSize = 99\n",
      "    xcpDriverVersionNumber = 16\n"
     ]
    }
   ],
   "source": [
    "CommModeInfo=xm.getCommModeInfo()\n",
    "print(CommModeInfo)"
   ]
  },
  {
   "cell_type": "markdown",
   "metadata": {},
   "source": [
    "## DOWNLOAD、UPLOADによるverify"
   ]
  },
  {
   "cell_type": "code",
   "execution_count": 9,
   "metadata": {},
   "outputs": [
    {
     "name": "stdout",
     "output_type": "stream",
     "text": [
      "00000000000000000000000000000000000000000000000000000000000000\n"
     ]
    }
   ],
   "source": [
    "xm.setMta(0x0000,0xff)\n",
    "bhv = xm.upload(31)\n",
    "print(bhv.hex())"
   ]
  },
  {
   "cell_type": "code",
   "execution_count": 10,
   "metadata": {},
   "outputs": [
    {
     "data": {
      "text/plain": [
       "bytearray(b'')"
      ]
     },
     "execution_count": 10,
     "metadata": {},
     "output_type": "execute_result"
    }
   ],
   "source": [
    "bhv = bytearray(bhv)\n",
    "bhv[29] = 0xAA\n",
    "bhv[30] = 0x55\n",
    "xm.setMta(0x0000,0xff)\n",
    "xm.download(bhv)"
   ]
  },
  {
   "cell_type": "code",
   "execution_count": 11,
   "metadata": {
    "scrolled": false
   },
   "outputs": [
    {
     "name": "stdout",
     "output_type": "stream",
     "text": [
      "0000000000000000000000000000000000000000000000000000000000aa55\n"
     ]
    }
   ],
   "source": [
    "xm.setMta(0x0000,0xff)\n",
    "bhv = xm.upload(31);\n",
    "print(bhv.hex())"
   ]
  },
  {
   "cell_type": "markdown",
   "metadata": {},
   "source": [
    "## DAQリストの構築"
   ]
  },
  {
   "cell_type": "code",
   "execution_count": 12,
   "metadata": {},
   "outputs": [],
   "source": [
    "xm.freeDaq();"
   ]
  },
  {
   "cell_type": "code",
   "execution_count": 13,
   "metadata": {},
   "outputs": [],
   "source": [
    "xm.allocDaq(2);"
   ]
  },
  {
   "cell_type": "code",
   "execution_count": 14,
   "metadata": {
    "scrolled": true
   },
   "outputs": [],
   "source": [
    "xm.allocOdt(0, 1);\n",
    "xm.allocOdt(1, 1);"
   ]
  },
  {
   "cell_type": "code",
   "execution_count": 15,
   "metadata": {},
   "outputs": [],
   "source": [
    "xm.allocOdtEntry(0, 0, 5);\n",
    "xm.allocOdtEntry(1, 0, 1);"
   ]
  },
  {
   "cell_type": "markdown",
   "metadata": {},
   "source": [
    "## ODT_ENTRYへの書き込み"
   ]
  },
  {
   "cell_type": "code",
   "execution_count": 16,
   "metadata": {},
   "outputs": [],
   "source": [
    "DaqEntry = namedtuple(\"DaqEntry\", \"daq odt entry bitoff size ext addr\")\n",
    "de0 = (\n",
    "    DaqEntry(daq=0, odt=0,  entry=0, bitoff=255, size=4, ext=0xff, addr=0x00000000),\n",
    "    DaqEntry(daq=0, odt=0,  entry=1, bitoff=255, size=4, ext=0xff, addr=0x00000004),\n",
    "    DaqEntry(daq=0, odt=0,  entry=2, bitoff=255, size=4, ext=0xff, addr=0x00000008),\n",
    "    DaqEntry(daq=0, odt=0,  entry=3, bitoff=255, size=4, ext=0xff, addr=0x0000000C),\n",
    "    DaqEntry(daq=0, odt=0,  entry=4, bitoff=255, size=4, ext=0xff, addr=0x00000010),\n",
    " \n",
    "    DaqEntry(daq=1, odt=0,  entry=0, bitoff=255, size=4, ext=0xff, addr=0x00000004),\n",
    ")\n"
   ]
  },
  {
   "cell_type": "code",
   "execution_count": 17,
   "metadata": {},
   "outputs": [],
   "source": [
    "for daq, odt, entry, bitoff, size, ext, addr in de0:\n",
    "    xm.setDaqPtr(daq, odt,  entry)\n",
    "    xm.writeDaq(bitoff, size, ext, addr)"
   ]
  },
  {
   "cell_type": "markdown",
   "metadata": {},
   "source": [
    "## DAQの起動"
   ]
  },
  {
   "cell_type": "code",
   "execution_count": 18,
   "metadata": {},
   "outputs": [
    {
     "name": "stdout",
     "output_type": "stream",
     "text": [
      "startStopDaqList #0 Container: \n",
      "    firstPid = 0\n",
      "startStopDaqList #1 Container: \n",
      "    firstPid = 1\n"
     ]
    }
   ],
   "source": [
    "xm.setDaqListMode(0x10, 0, 1, 1, 0)\n",
    "xm.setDaqListMode(0x02, 1, 3, 1, 0)\n",
    "\n",
    "res = xm.startStopDaqList(0x02, 0)\n",
    "print(\"startStopDaqList #0\", res)\n",
    "res = xm.startStopDaqList(0x02, 1)\n",
    "print(\"startStopDaqList #1\", res)"
   ]
  },
  {
   "cell_type": "code",
   "execution_count": 19,
   "metadata": {},
   "outputs": [],
   "source": [
    "xm.startStopSynch(0x01);"
   ]
  },
  {
   "cell_type": "markdown",
   "metadata": {},
   "source": [
    "## DAQの計測とSTIMによる外部からの値更新"
   ]
  },
  {
   "cell_type": "code",
   "execution_count": 20,
   "metadata": {},
   "outputs": [
    {
     "name": "stdout",
     "output_type": "stream",
     "text": [
      "1641457259.108966, 007602000000000000000000000000000000000000000000\n",
      "1641457259.118985, 008002000000000000000000000000000000000000000000\n",
      "1641457259.128897, 008a02000000000000000000000000000000000000000000\n",
      "1641457259.138867, 009402000000000000000000000000000000000000000000\n",
      "1641457259.148836, 009e02000000000000000000000000000000000000000000\n",
      "1641457259.158831, 00a802000000000000000000000000000000000000000000\n",
      "1641457259.168841, 00b202000000000000000000000000000000000000000000\n",
      "stim 0111223344\n",
      "1641457259.178762, 00bc02000000001122334400000000000000000000000000\n",
      "1641457259.188772, 00c602000000001122334400000000000000000000000000\n",
      "1641457259.198750, 00d002000000001122334400000000000000000000000000\n",
      "1641457259.208720, 00da02000000001122334400000000000000000000000000\n",
      "1641457259.218731, 00e402000000001122334400000000000000000000000000\n",
      "stim 0155667788\n",
      "1641457259.228667, 00ee02000000001122334400000000000000000000000000\n",
      "1641457259.238662, 00f802000000005566778800000000000000000000000000\n",
      "1641457259.248664, 000203000000005566778800000000000000000000000000\n",
      "1641457259.258601, 000c03000000005566778800000000000000000000000000\n",
      "1641457259.268604, 001603000000005566778800000000000000000000000000\n",
      "1641457259.278581, 002003000000005566778800000000000000000000000000\n",
      "stim 0199aabbcc\n",
      "1641457259.288510, 002a030000000099aabbcc00000000000000000000000000\n",
      "1641457259.298496, 0034030000000099aabbcc00000000000000000000000000\n",
      "1641457259.308474, 003e030000000099aabbcc00000000000000000000000000\n",
      "1641457259.318468, 0048030000000099aabbcc00000000000000000000000000\n",
      "stim 0100000000\n",
      "1641457259.328421, 0052030000000099aabbcc00000000000000000000000000\n",
      "1641457259.338416, 005c03000000000000000000000000000000000000000000\n",
      "1641457259.348336, 006603000000000000000000000000000000000000000000\n",
      "1641457259.358404, 007003000000000000000000000000000000000000000000\n",
      "1641457259.368325, 007a03000000000000000000000000000000000000000000\n",
      "stim 0100000000\n",
      "\n"
     ]
    }
   ],
   "source": [
    "stim_wait = 0.05\n",
    "start = time.time()\n",
    "stim_time =  time.time()+stim_wait-0.03\n",
    "\n",
    "ram_update = [\n",
    "    [0x11, 0x22, 0x33, 0x44],\n",
    "    [0x55, 0x66, 0x77, 0x88],\n",
    "    [0x99, 0xAA, 0xBB, 0xCC],\n",
    "    [0x00, 0x00, 0x00, 0x00],\n",
    "]\n",
    "i = 0\n",
    "str = \"\"\n",
    "while True:\n",
    "    queue_len = len(xm.transport.daqQueue)\n",
    "    for _ in range(queue_len):\n",
    "        daq = xm.transport.daqQueue.popleft()\n",
    "        str += '%.6f, %s\\n' % ( daq[3],daq[0].hex() )\n",
    "    if time.time() > stim_time:\n",
    "        bhv = bytearray([0x01]*5)\n",
    "        bhv[1:5]=ram_update[i]\n",
    "        xm.transport.send(bhv)\n",
    "        str += 'stim %s\\n' % bhv.hex()\n",
    "        stim_time =  stim_time + stim_wait\n",
    "        i = i+1\n",
    "        if i > 3:\n",
    "            i = 3\n",
    "    if time.time() > start + 0.22:\n",
    "        break\n",
    "    time.sleep(0.010)\n",
    "\n",
    "print(str)"
   ]
  },
  {
   "cell_type": "code",
   "execution_count": 21,
   "metadata": {},
   "outputs": [],
   "source": [
    "xm.startStopSynch(0x00);"
   ]
  },
  {
   "cell_type": "code",
   "execution_count": 22,
   "metadata": {},
   "outputs": [],
   "source": [
    "xm.disconnect();"
   ]
  },
  {
   "cell_type": "code",
   "execution_count": null,
   "metadata": {},
   "outputs": [],
   "source": []
  }
 ],
 "metadata": {
  "kernelspec": {
   "display_name": "Python 3 (ipykernel)",
   "language": "python",
   "name": "python3"
  },
  "language_info": {
   "codemirror_mode": {
    "name": "ipython",
    "version": 3
   },
   "file_extension": ".py",
   "mimetype": "text/x-python",
   "name": "python",
   "nbconvert_exporter": "python",
   "pygments_lexer": "ipython3",
   "version": "3.7.3"
  }
 },
 "nbformat": 4,
 "nbformat_minor": 4
}
