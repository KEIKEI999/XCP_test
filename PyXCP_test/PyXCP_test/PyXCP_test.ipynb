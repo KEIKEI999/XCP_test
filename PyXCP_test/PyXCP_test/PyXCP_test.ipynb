{
 "cells": [
  {
   "cell_type": "markdown",
   "metadata": {},
   "source": [
    "## 各種import"
   ]
  },
  {
   "cell_type": "code",
   "execution_count": 1,
   "metadata": {},
   "outputs": [],
   "source": [
    "from io import StringIO\n",
    "from pyxcp.config import readConfiguration\n",
    "from pyxcp import transport\n",
    "from pyxcp.transport.candriver.pc_vector import Vector # \"CAN_DRIVER\": \"Vector\"を指定する場合に必要\n",
    "from pyxcp.master import Master\n",
    "from collections import namedtuple\n",
    "import time"
   ]
  },
  {
   "cell_type": "markdown",
   "metadata": {},
   "source": [
    "## コンフィグレーションパラメータ(JSON文字列)の作成と読み込み"
   ]
  },
  {
   "cell_type": "code",
   "execution_count": 2,
   "metadata": {},
   "outputs": [],
   "source": [
    "JSON = \"\"\"{\n",
    "\"TRANSPORT\": \"CAN\",\n",
    "\"CAN_DRIVER\": \"Vector\",\n",
    "\"CAN_USE_DEFAULT_LISTENER\": true,\n",
    "\"CHANNEL\": \"0\",\n",
    "\"CAN_ID_MASTER\": 2,\n",
    "\"CAN_ID_SLAVE\": 1,\n",
    "\"CAN_ID_BROADCAST\": 256,\n",
    "\"MAX_DLC_REQUIRED\": false,\n",
    "\"CREATE_DAQ_TIMESTAMPS\": true,\n",
    "\"SERIAL\": 0,\n",
    "\"BITRATE\": 500000,\n",
    "\"APP_NAME\": \"PyXCP-CAN\"\n",
    "}\"\"\"\n",
    "CONF_JSON = StringIO(JSON)\n",
    "CONF_JSON.name = \"conf_can_vector.json\"\n",
    "CONFIG = readConfiguration(CONF_JSON)"
   ]
  },
  {
   "cell_type": "markdown",
   "metadata": {},
   "source": [
    "## コンフィグレーションを元にXCPマスターの生成"
   ]
  },
  {
   "cell_type": "code",
   "execution_count": 3,
   "metadata": {},
   "outputs": [],
   "source": [
    "xm=Master('can',config=CONFIG)"
   ]
  },
  {
   "cell_type": "markdown",
   "metadata": {},
   "source": [
    "## CONNECT"
   ]
  },
  {
   "cell_type": "code",
   "execution_count": 4,
   "metadata": {},
   "outputs": [
    {
     "name": "stdout",
     "output_type": "stream",
     "text": [
      "Container: \n",
      "    resource = Container: \n",
      "        dbg = False\n",
      "        pgm = False\n",
      "        stim = False\n",
      "        daq = True\n",
      "        calpag = False\n",
      "    commModeBasic = Container: \n",
      "        optional = True\n",
      "        slaveBlockMode = False\n",
      "        addressGranularity = (enum) BYTE 0\n",
      "        byteOrder = (enum) INTEL 0\n",
      "    maxCto = 8\n",
      "    maxDto = 8\n",
      "    protocolLayerVersion = 1\n",
      "    transportLayerVersion = 1\n"
     ]
    }
   ],
   "source": [
    "conn = xm.connect()\n",
    "print(conn)"
   ]
  },
  {
   "cell_type": "code",
   "execution_count": 5,
   "metadata": {},
   "outputs": [
    {
     "name": "stdout",
     "output_type": "stream",
     "text": [
      "calpag = False\n",
      "daq = True\n",
      "pgm = False\n",
      "stim = False\n"
     ]
    }
   ],
   "source": [
    "print(\"calpag =\", xm.slaveProperties.supportsCalpag)\n",
    "print(\"daq =\", xm.slaveProperties.supportsDaq)\n",
    "print(\"pgm =\", xm.slaveProperties.supportsPgm)\n",
    "print(\"stim =\", xm.slaveProperties.supportsStim)"
   ]
  },
  {
   "cell_type": "markdown",
   "metadata": {},
   "source": [
    "## GET_STATUS"
   ]
  },
  {
   "cell_type": "code",
   "execution_count": 6,
   "metadata": {},
   "outputs": [
    {
     "name": "stdout",
     "output_type": "stream",
     "text": [
      "Container: \n",
      "    sessionStatus = Container: \n",
      "        resume = False\n",
      "        daqRunning = False\n",
      "        clearDaqRequest = False\n",
      "        storeDaqRequest = False\n",
      "        storeCalRequest = False\n",
      "    resourceProtectionStatus = Container: \n",
      "        dbg = False\n",
      "        pgm = False\n",
      "        stim = False\n",
      "        daq = False\n",
      "        calpag = False\n",
      "    sessionConfiguration = 0\n"
     ]
    }
   ],
   "source": [
    "status=xm.getStatus()\n",
    "print(status)"
   ]
  },
  {
   "cell_type": "markdown",
   "metadata": {},
   "source": [
    "## SYNCH"
   ]
  },
  {
   "cell_type": "code",
   "execution_count": 7,
   "metadata": {},
   "outputs": [
    {
     "name": "stdout",
     "output_type": "stream",
     "text": [
      "bytearray(b'\\x00')\n"
     ]
    }
   ],
   "source": [
    "res=xm.synch()\n",
    "print(res)"
   ]
  },
  {
   "cell_type": "markdown",
   "metadata": {},
   "source": [
    "## GET_COMM_MODE_INFO"
   ]
  },
  {
   "cell_type": "code",
   "execution_count": 8,
   "metadata": {
    "scrolled": true
   },
   "outputs": [
    {
     "name": "stdout",
     "output_type": "stream",
     "text": [
      "Container: \n",
      "    commModeOptional = Container: \n",
      "        interleavedMode = False\n",
      "        masterBlockMode = False\n",
      "    maxBs = 0\n",
      "    minSt = 0\n",
      "    queueSize = 0\n",
      "    xcpDriverVersionNumber = 16\n"
     ]
    }
   ],
   "source": [
    "CommModeInfo=xm.getCommModeInfo()\n",
    "print(CommModeInfo)"
   ]
  },
  {
   "cell_type": "markdown",
   "metadata": {},
   "source": [
    "## DOWNLOAD、UPLOADによるverify"
   ]
  },
  {
   "cell_type": "code",
   "execution_count": 9,
   "metadata": {},
   "outputs": [
    {
     "name": "stdout",
     "output_type": "stream",
     "text": [
      "00000000\n"
     ]
    }
   ],
   "source": [
    "xm.setMta(0x0000,0xff)\n",
    "bhv = xm.upload(4)\n",
    "print(bhv.hex())"
   ]
  },
  {
   "cell_type": "code",
   "execution_count": 10,
   "metadata": {},
   "outputs": [
    {
     "data": {
      "text/plain": [
       "bytearray(b'')"
      ]
     },
     "execution_count": 10,
     "metadata": {},
     "output_type": "execute_result"
    }
   ],
   "source": [
    "bhv = bytearray(bhv)\n",
    "bhv[0] = 0xAA\n",
    "bhv[1] = 0x55\n",
    "xm.setMta(0x0000,0xff)\n",
    "xm.download(bhv)"
   ]
  },
  {
   "cell_type": "code",
   "execution_count": 11,
   "metadata": {
    "scrolled": false
   },
   "outputs": [
    {
     "name": "stdout",
     "output_type": "stream",
     "text": [
      "aa550000\n"
     ]
    }
   ],
   "source": [
    "xm.setMta(0x0000,0xff)\n",
    "bhv = xm.upload(4)\n",
    "print(bhv.hex())"
   ]
  },
  {
   "cell_type": "markdown",
   "metadata": {},
   "source": [
    "## DAQリストの構築"
   ]
  },
  {
   "cell_type": "code",
   "execution_count": 12,
   "metadata": {},
   "outputs": [],
   "source": [
    "xm.freeDaq();"
   ]
  },
  {
   "cell_type": "code",
   "execution_count": 13,
   "metadata": {},
   "outputs": [],
   "source": [
    "xm.allocDaq(1);"
   ]
  },
  {
   "cell_type": "code",
   "execution_count": 14,
   "metadata": {
    "scrolled": true
   },
   "outputs": [],
   "source": [
    "xm.allocOdt(0, 1);"
   ]
  },
  {
   "cell_type": "code",
   "execution_count": 15,
   "metadata": {},
   "outputs": [],
   "source": [
    "xm.allocOdtEntry(0, 0, 1);"
   ]
  },
  {
   "cell_type": "markdown",
   "metadata": {},
   "source": [
    "## ODT_ENTRYへの書き込み"
   ]
  },
  {
   "cell_type": "code",
   "execution_count": 16,
   "metadata": {},
   "outputs": [],
   "source": [
    "DaqEntry = namedtuple(\"DaqEntry\", \"daq odt entry bitoff size ext addr\")\n",
    "de0 = (\n",
    "    DaqEntry(daq=0, odt=0,  entry=0, bitoff=255, size=4, ext=0xff, addr=0x00000004),\n",
    ")\n"
   ]
  },
  {
   "cell_type": "code",
   "execution_count": 17,
   "metadata": {},
   "outputs": [],
   "source": [
    "for daq, odt, entry, bitoff, size, ext, addr in de0:\n",
    "    xm.setDaqPtr(daq, odt,  entry)\n",
    "    xm.writeDaq(bitoff, size, ext, addr)"
   ]
  },
  {
   "cell_type": "markdown",
   "metadata": {},
   "source": [
    "## DAQの起動"
   ]
  },
  {
   "cell_type": "code",
   "execution_count": 18,
   "metadata": {},
   "outputs": [
    {
     "name": "stdout",
     "output_type": "stream",
     "text": [
      "startStopDaqList #0 Container: \n",
      "    firstPid = 0\n"
     ]
    }
   ],
   "source": [
    "xm.setDaqListMode(0x10, 0, 1, 1, 0)\n",
    "res = xm.startStopDaqList(0x02, 0)\n",
    "print(\"startStopDaqList #0\", res)"
   ]
  },
  {
   "cell_type": "code",
   "execution_count": 19,
   "metadata": {},
   "outputs": [],
   "source": [
    "xm.startStopSynch(0x01);"
   ]
  },
  {
   "cell_type": "markdown",
   "metadata": {},
   "source": [
    "## DAQの計測とDOWNLOADによる外部からの値更新"
   ]
  },
  {
   "cell_type": "code",
   "execution_count": 20,
   "metadata": {},
   "outputs": [
    {
     "name": "stdout",
     "output_type": "stream",
     "text": [
      "1637617964.960732, 00000000000000\n",
      "1637617964.970694, 00630000000000\n",
      "1637617964.980664, 00c70000000000\n",
      "1637617964.990625, 002a0100000000\n",
      "1637617965.000587, 008e0100000000\n",
      "1637617965.010556, 00f20100000000\n",
      "1637617965.020526, 00550200000000\n",
      "1637617965.031487, 00c30200000000\n",
      "download 11223344\n",
      "1637617965.041465, 00270300000000\n",
      "1637617965.051442, 008b0300000000\n",
      "1637617965.061437, 00ee0311223344\n",
      "1637617965.071455, 00530411223344\n",
      "1637617965.081409, 00b60411223344\n",
      "download 55667788\n",
      "1637617965.091411, 001a0511223344\n",
      "1637617965.101348, 007e0511223344\n",
      "1637617965.111318, 00e10555667788\n",
      "1637617965.121296, 00450655667788\n",
      "1637617965.131257, 00a90655667788\n",
      "download 99aabbcc\n",
      "1637617965.141219, 000c0755667788\n",
      "1637617965.151229, 00700755667788\n",
      "1637617965.161248, 00d50799aabbcc\n",
      "1637617965.171185, 00380899aabbcc\n",
      "1637617965.181204, 009c0899aabbcc\n",
      "1637617965.191124, 00ff0899aabbcc\n",
      "download 00000000\n",
      "1637617965.201077, 00630999aabbcc\n",
      "1637617965.211047, 00c70999aabbcc\n",
      "1637617965.221000, 002a0a00000000\n",
      "1637617965.230995, 008e0a00000000\n",
      "1637617965.240956, 00f20a00000000\n",
      "download 00000000\n",
      "\n"
     ]
    }
   ],
   "source": [
    "download_wait = 0.05\n",
    "start = time.time()\n",
    "download_time =  time.time()+download_wait-0.03\n",
    "\n",
    "ram_update = [\n",
    "    [0x11, 0x22, 0x33, 0x44],\n",
    "    [0x55, 0x66, 0x77, 0x88],\n",
    "    [0x99, 0xAA, 0xBB, 0xCC],\n",
    "    [0x00, 0x00, 0x00, 0x00],\n",
    "]\n",
    "i = 0\n",
    "str = \"\"\n",
    "while True:\n",
    "    queue_len = len(xm.transport.daqQueue)\n",
    "    for _ in range(queue_len):\n",
    "        daq = xm.transport.daqQueue.popleft()\n",
    "        str += '%.6f, %s\\n' % ( daq[3],daq[0].hex() )\n",
    "    if time.time() > download_time:\n",
    "        xm.setMta(0x00000004,0xff)\n",
    "        bhv = bytearray(ram_update[i])\n",
    "        xm.download(bhv)\n",
    "        str += 'download %s\\n' % bhv.hex()\n",
    "        download_time =  download_time + download_wait\n",
    "        i = i+1\n",
    "        if i > 3:\n",
    "            i = 3\n",
    "    if time.time() > start + 0.22:\n",
    "        break\n",
    "    time.sleep(0.010)\n",
    "    \n",
    "print(str)"
   ]
  },
  {
   "cell_type": "code",
   "execution_count": 21,
   "metadata": {},
   "outputs": [],
   "source": [
    "xm.startStopSynch(0x00);"
   ]
  },
  {
   "cell_type": "code",
   "execution_count": 22,
   "metadata": {},
   "outputs": [],
   "source": [
    "xm.disconnect();"
   ]
  },
  {
   "cell_type": "code",
   "execution_count": null,
   "metadata": {},
   "outputs": [],
   "source": []
  }
 ],
 "metadata": {
  "kernelspec": {
   "display_name": "Python 3",
   "language": "python",
   "name": "python3"
  },
  "language_info": {
   "codemirror_mode": {
    "name": "ipython",
    "version": 3
   },
   "file_extension": ".py",
   "mimetype": "text/x-python",
   "name": "python",
   "nbconvert_exporter": "python",
   "pygments_lexer": "ipython3",
   "version": "3.7.3"
  }
 },
 "nbformat": 4,
 "nbformat_minor": 4
}
