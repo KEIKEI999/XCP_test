{
 "cells": [
  {
   "cell_type": "markdown",
   "metadata": {},
   "source": [
    "## 初期化＆CONNECTコマンド"
   ]
  },
  {
   "cell_type": "code",
   "execution_count": 1,
   "metadata": {},
   "outputs": [
    {
     "name": "stdout",
     "output_type": "stream",
     "text": [
      "Send msg : Timestamp:        0.000000        ID: 0001    S                DLC:  2    ff 00\n",
      "Recv msg : Timestamp: 1635381625.264391        ID: 0002    S                DLC:  8    ff 04 80 08 08 00 01 01     Channel: 1\n"
     ]
    }
   ],
   "source": [
    "import can\n",
    "bus = can.interface.Bus(bustype='vector', channel='1', bitrate=500000)\n",
    "send_msg = can.Message(arbitration_id=1, extended_id=0, data=[0xFF, 0x00, ])\n",
    "print('Send msg : %s' % send_msg)\n",
    "bus.send( send_msg )\n",
    "recv_msg = bus.recv(timeout=1)\n",
    "print('Recv msg : %s' % recv_msg)"
   ]
  },
  {
   "cell_type": "markdown",
   "metadata": {},
   "source": [
    "## SET_MTA addr=00000000h, addrext=FFh"
   ]
  },
  {
   "cell_type": "code",
   "execution_count": 2,
   "metadata": {},
   "outputs": [
    {
     "name": "stdout",
     "output_type": "stream",
     "text": [
      "Send msg : Timestamp:        0.000000        ID: 0001    S                DLC:  8    f6 00 00 ff 00 00 00 00\n",
      "Recv msg : Timestamp: 1635381625.276187        ID: 0002    S                DLC:  1    ff                          Channel: 1\n"
     ]
    }
   ],
   "source": [
    "send_msg = can.Message(arbitration_id=1, extended_id=0, data=[0xF6, 0x00, 0x00, 0xFF, 0x00, 0x00, 0x00, 0x00, ])\n",
    "print('Send msg : %s' % send_msg)\n",
    "bus.send( send_msg )\n",
    "recv_msg = bus.recv(timeout=1)\n",
    "print('Recv msg : %s' % recv_msg)"
   ]
  },
  {
   "cell_type": "markdown",
   "metadata": {},
   "source": [
    "## DOWNLOAD size=4, data=11 22 33 44"
   ]
  },
  {
   "cell_type": "code",
   "execution_count": 3,
   "metadata": {},
   "outputs": [
    {
     "name": "stdout",
     "output_type": "stream",
     "text": [
      "Send msg : Timestamp:        0.000000        ID: 0001    S                DLC:  6    f0 04 11 22 33 44\n",
      "Recv msg : Timestamp: 1635381625.305089        ID: 0002    S                DLC:  1    ff                          Channel: 1\n"
     ]
    }
   ],
   "source": [
    "send_msg = can.Message(arbitration_id=1, extended_id=0, data=[0xF0, 0x04, 0x11, 0x22, 0x33, 0x44, ])\n",
    "print('Send msg : %s' % send_msg)\n",
    "bus.send( send_msg )\n",
    "recv_msg = bus.recv(timeout=1)\n",
    "print('Recv msg : %s' % recv_msg)"
   ]
  },
  {
   "cell_type": "markdown",
   "metadata": {},
   "source": [
    "## DOWNLOAD_MAX data=55 66 77 88 99 AA BB"
   ]
  },
  {
   "cell_type": "code",
   "execution_count": 4,
   "metadata": {},
   "outputs": [
    {
     "name": "stdout",
     "output_type": "stream",
     "text": [
      "Send msg : Timestamp:        0.000000        ID: 0001    S                DLC:  8    ee 55 66 77 88 99 aa bb\n",
      "Recv msg : Timestamp: 1635381625.327625        ID: 0002    S                DLC:  1    ff                          Channel: 1\n"
     ]
    }
   ],
   "source": [
    "send_msg = can.Message(arbitration_id=1, extended_id=0, data=[0xEE, 0x55, 0x66, 0x77, 0x88, 0x99, 0xAA, 0xBB, ])\n",
    "print('Send msg : %s' % send_msg)\n",
    "bus.send( send_msg )\n",
    "recv_msg = bus.recv(timeout=1)\n",
    "print('Recv msg : %s' % recv_msg)"
   ]
  },
  {
   "cell_type": "markdown",
   "metadata": {},
   "source": [
    "## SHORT_UPLOAD addr=00000000h, addrext=FFh"
   ]
  },
  {
   "cell_type": "code",
   "execution_count": 5,
   "metadata": {},
   "outputs": [
    {
     "name": "stdout",
     "output_type": "stream",
     "text": [
      "Send msg : Timestamp:        0.000000        ID: 0001    S                DLC:  8    f4 04 00 ff 00 00 00 00\n",
      "Recv msg : Timestamp: 1635381625.358165        ID: 0002    S                DLC:  5    ff 11 22 33 44              Channel: 1\n"
     ]
    }
   ],
   "source": [
    "send_msg = can.Message(arbitration_id=1, extended_id=0, data=[0xF4, 0x04, 0x00, 0xFF, 0x00, 0x00, 0x00, 0x00, ])\n",
    "print('Send msg : %s' % send_msg)\n",
    "bus.send( send_msg )\n",
    "recv_msg = bus.recv(timeout=1)\n",
    "print('Recv msg : %s' % recv_msg)"
   ]
  },
  {
   "cell_type": "markdown",
   "metadata": {},
   "source": [
    "## UPLOAD (addr=00000004h, addrext=FFh), size=7"
   ]
  },
  {
   "cell_type": "code",
   "execution_count": 6,
   "metadata": {},
   "outputs": [
    {
     "name": "stdout",
     "output_type": "stream",
     "text": [
      "Send msg : Timestamp:        0.000000        ID: 0001    S                DLC:  2    f5 07\n",
      "Recv msg : Timestamp: 1635381625.387672        ID: 0002    S                DLC:  8    ff 55 66 77 88 99 aa bb     Channel: 1\n"
     ]
    }
   ],
   "source": [
    "send_msg = can.Message(arbitration_id=1, extended_id=0, data=[0xF5, 0x07, ])\n",
    "print('Send msg : %s' % send_msg)\n",
    "bus.send( send_msg )\n",
    "recv_msg = bus.recv(timeout=1)\n",
    "print('Recv msg : %s' % recv_msg)"
   ]
  },
  {
   "cell_type": "code",
   "execution_count": null,
   "metadata": {},
   "outputs": [],
   "source": []
  }
 ],
 "metadata": {
  "kernelspec": {
   "display_name": "Python 3",
   "language": "python",
   "name": "python3"
  },
  "language_info": {
   "codemirror_mode": {
    "name": "ipython",
    "version": 3
   },
   "file_extension": ".py",
   "mimetype": "text/x-python",
   "name": "python",
   "nbconvert_exporter": "python",
   "pygments_lexer": "ipython3",
   "version": "3.7.3"
  }
 },
 "nbformat": 4,
 "nbformat_minor": 4
}
