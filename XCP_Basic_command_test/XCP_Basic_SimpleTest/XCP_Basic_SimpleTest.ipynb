{
 "cells": [
  {
   "cell_type": "markdown",
   "metadata": {},
   "source": [
    "## 初期化"
   ]
  },
  {
   "cell_type": "code",
   "execution_count": 1,
   "metadata": {},
   "outputs": [],
   "source": [
    "import can\n",
    "bus = can.interface.Bus(bustype='vector', channel='1', bitrate=500000)"
   ]
  },
  {
   "cell_type": "markdown",
   "metadata": {},
   "source": [
    "## CONNECTコマンド"
   ]
  },
  {
   "cell_type": "code",
   "execution_count": 2,
   "metadata": {},
   "outputs": [
    {
     "name": "stdout",
     "output_type": "stream",
     "text": [
      "Send msg : Timestamp:        0.000000        ID: 0001    S                DLC:  2    ff 00\n",
      "Recv msg : Timestamp: 1635381059.570065        ID: 0002    S                DLC:  8    ff 04 80 08 08 00 01 01     Channel: 1\n"
     ]
    }
   ],
   "source": [
    "send_msg = can.Message(arbitration_id=1, extended_id=0, data=[0xFF, 0x00, ])\n",
    "print('Send msg : %s' % send_msg)\n",
    "bus.send( send_msg )\n",
    "recv_msg = bus.recv(timeout=1)\n",
    "print('Recv msg : %s' % recv_msg)"
   ]
  },
  {
   "cell_type": "markdown",
   "metadata": {},
   "source": [
    "## GET_STATUSコマンド"
   ]
  },
  {
   "cell_type": "code",
   "execution_count": 3,
   "metadata": {},
   "outputs": [
    {
     "name": "stdout",
     "output_type": "stream",
     "text": [
      "Send msg : Timestamp:        0.000000        ID: 0001    S                DLC:  1    fd\n",
      "Recv msg : Timestamp: 1635381059.601678        ID: 0002    S                DLC:  6    ff 20 00 08 00 00           Channel: 1\n"
     ]
    }
   ],
   "source": [
    "send_msg = can.Message(arbitration_id=1, extended_id=0, data=[0xFD, ])\n",
    "print('Send msg : %s' % send_msg)\n",
    "bus.send( send_msg )\n",
    "recv_msg = bus.recv(timeout=1)\n",
    "print('Recv msg : %s' % recv_msg)"
   ]
  },
  {
   "cell_type": "markdown",
   "metadata": {},
   "source": [
    "## SYNCコマンド"
   ]
  },
  {
   "cell_type": "code",
   "execution_count": 4,
   "metadata": {},
   "outputs": [
    {
     "name": "stdout",
     "output_type": "stream",
     "text": [
      "Send msg : Timestamp:        0.000000        ID: 0001    S                DLC:  1    fc\n",
      "Recv msg : Timestamp: 1635381059.639173        ID: 0002    S                DLC:  2    fe 00                       Channel: 1\n"
     ]
    }
   ],
   "source": [
    "send_msg = can.Message(arbitration_id=1, extended_id=0, data=[0xFC, ])\n",
    "print('Send msg : %s' % send_msg)\n",
    "bus.send( send_msg )\n",
    "recv_msg = bus.recv(timeout=1)\n",
    "print('Recv msg : %s' % recv_msg)"
   ]
  }
 ],
 "metadata": {
  "kernelspec": {
   "display_name": "Python 3",
   "language": "python",
   "name": "python3"
  },
  "language_info": {
   "codemirror_mode": {
    "name": "ipython",
    "version": 3
   },
   "file_extension": ".py",
   "mimetype": "text/x-python",
   "name": "python",
   "nbconvert_exporter": "python",
   "pygments_lexer": "ipython3",
   "version": "3.7.3"
  }
 },
 "nbformat": 4,
 "nbformat_minor": 4
}
