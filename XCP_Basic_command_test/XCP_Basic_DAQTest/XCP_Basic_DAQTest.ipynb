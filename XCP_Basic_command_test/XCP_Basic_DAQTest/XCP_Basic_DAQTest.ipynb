{
 "cells": [
  {
   "cell_type": "markdown",
   "metadata": {},
   "source": [
    "## 初期化＆XCP_SENDRECV関数定義＆CONNECT"
   ]
  },
  {
   "cell_type": "code",
   "execution_count": 1,
   "metadata": {},
   "outputs": [
    {
     "name": "stdout",
     "output_type": "stream",
     "text": [
      "Send msg : Timestamp:        0.000000        ID: 0001    S                DLC:  2    ff 00\n",
      "Recv msg : Timestamp: 1636616815.709219        ID: 0002    S                DLC:  8    ff 04 80 08 08 00 01 01     Channel: 1\n"
     ]
    }
   ],
   "source": [
    "import can\n",
    "import time\n",
    "bus = can.interface.Bus(bustype='vector', channel='1', bitrate=500000)\n",
    "resid = 2\n",
    "def xcp_sendrecv(data):\n",
    "    send_msg = can.Message(arbitration_id=1, extended_id=0, data=data)\n",
    "    print('Send msg : %s' % send_msg)\n",
    "    bus.send( send_msg )\n",
    "    start = time.time()\n",
    "    while True:\n",
    "        recv_msg = bus.recv(timeout=1)\n",
    "        if recv_msg != None:\n",
    "            if resid == recv_msg.arbitration_id:\n",
    "                if (0xFE <= recv_msg.data[0] ) & ( recv_msg.data[0] <= 0xFF):\n",
    "                    break\n",
    "        if time.time() > start + 1:\n",
    "            break\n",
    "    print('Recv msg : %s' % recv_msg)\n",
    "    return recv_msg\n",
    "\n",
    "xcp_sendrecv([0xFF, 0x00, ]);"
   ]
  },
  {
   "cell_type": "markdown",
   "metadata": {},
   "source": [
    "## FREE_DAQ"
   ]
  },
  {
   "cell_type": "code",
   "execution_count": 2,
   "metadata": {
    "scrolled": true
   },
   "outputs": [
    {
     "name": "stdout",
     "output_type": "stream",
     "text": [
      "Send msg : Timestamp:        0.000000        ID: 0001    S                DLC:  1    d6\n",
      "Recv msg : Timestamp: 1636616815.735237        ID: 0002    S                DLC:  1    ff                          Channel: 1\n"
     ]
    }
   ],
   "source": [
    "xcp_sendrecv([0xD6, ]);"
   ]
  },
  {
   "cell_type": "markdown",
   "metadata": {},
   "source": [
    "## ALLOC_DAQ 1"
   ]
  },
  {
   "cell_type": "code",
   "execution_count": 3,
   "metadata": {},
   "outputs": [
    {
     "name": "stdout",
     "output_type": "stream",
     "text": [
      "Send msg : Timestamp:        0.000000        ID: 0001    S                DLC:  4    d5 00 01 00\n",
      "Recv msg : Timestamp: 1636616815.754480        ID: 0002    S                DLC:  1    ff                          Channel: 1\n"
     ]
    }
   ],
   "source": [
    "xcp_sendrecv([0xD5, 0x00, 0x01, 0x00, ]);"
   ]
  },
  {
   "cell_type": "markdown",
   "metadata": {},
   "source": [
    "## ALLOC_ODT daq=0, count=1"
   ]
  },
  {
   "cell_type": "code",
   "execution_count": 4,
   "metadata": {},
   "outputs": [
    {
     "name": "stdout",
     "output_type": "stream",
     "text": [
      "Send msg : Timestamp:        0.000000        ID: 0001    S                DLC:  5    d4 00 00 00 01\n",
      "Recv msg : Timestamp: 1636616815.771274        ID: 0002    S                DLC:  1    ff                          Channel: 1\n"
     ]
    }
   ],
   "source": [
    "xcp_sendrecv([0xD4, 0x00, 0x00, 0x00, 0x01, ]);"
   ]
  },
  {
   "cell_type": "markdown",
   "metadata": {},
   "source": [
    "## ALLOC_ODT_ENTRY daq=0, odt=0, count=1"
   ]
  },
  {
   "cell_type": "code",
   "execution_count": 5,
   "metadata": {},
   "outputs": [
    {
     "name": "stdout",
     "output_type": "stream",
     "text": [
      "Send msg : Timestamp:        0.000000        ID: 0001    S                DLC:  6    d3 00 00 00 00 01\n",
      "Recv msg : Timestamp: 1636616815.793695        ID: 0002    S                DLC:  1    ff                          Channel: 1\n"
     ]
    }
   ],
   "source": [
    "xcp_sendrecv([0xD3, 0x00, 0x00, 0x00, 0x00, 0x01, ]);"
   ]
  },
  {
   "cell_type": "markdown",
   "metadata": {},
   "source": [
    "## SET_DAQ_PTR daq=0,odt=0,idx=0"
   ]
  },
  {
   "cell_type": "code",
   "execution_count": 6,
   "metadata": {},
   "outputs": [
    {
     "name": "stdout",
     "output_type": "stream",
     "text": [
      "Send msg : Timestamp:        0.000000        ID: 0001    S                DLC:  6    e2 00 00 00 00 00\n",
      "Recv msg : Timestamp: 1636616815.809915        ID: 0002    S                DLC:  1    ff                          Channel: 1\n"
     ]
    }
   ],
   "source": [
    "xcp_sendrecv([0xE2, 0x00, 0x00, 0x00, 0x00, 0x00, ]);"
   ]
  },
  {
   "cell_type": "markdown",
   "metadata": {},
   "source": [
    "## WRITE_DAQ size=4,addr=00000004h,FFh"
   ]
  },
  {
   "cell_type": "code",
   "execution_count": 7,
   "metadata": {},
   "outputs": [
    {
     "name": "stdout",
     "output_type": "stream",
     "text": [
      "Send msg : Timestamp:        0.000000        ID: 0001    S                DLC:  8    e1 ff 04 ff 04 00 00 00\n",
      "Recv msg : Timestamp: 1636616815.826185        ID: 0002    S                DLC:  1    ff                          Channel: 1\n"
     ]
    }
   ],
   "source": [
    "xcp_sendrecv([0xE1, 0xFF, 0x04, 0xFF, 0x04, 0x00, 0x00, 0x00, ]);"
   ]
  },
  {
   "cell_type": "markdown",
   "metadata": {},
   "source": [
    "## SET_DAQ_LIST_MODE daq=0, mode=10h(TIMESTAMP_SUPPORTED), prescaler=1, eventchannel=1(10[ms] Cycle)"
   ]
  },
  {
   "cell_type": "code",
   "execution_count": 8,
   "metadata": {},
   "outputs": [
    {
     "name": "stdout",
     "output_type": "stream",
     "text": [
      "Send msg : Timestamp:        0.000000        ID: 0001    S                DLC:  8    e0 10 00 00 01 00 01 00\n",
      "Recv msg : Timestamp: 1636616815.841455        ID: 0002    S                DLC:  1    ff                          Channel: 1\n"
     ]
    }
   ],
   "source": [
    "xcp_sendrecv([0xE0, 0x10, 0x00, 0x00, 0x01, 0x00, 0x01, 0x00, ]);"
   ]
  },
  {
   "cell_type": "markdown",
   "metadata": {},
   "source": [
    "## START_STOP_DAQ_LIST mode=02h(select), daq=0"
   ]
  },
  {
   "cell_type": "code",
   "execution_count": 9,
   "metadata": {
    "scrolled": true
   },
   "outputs": [
    {
     "name": "stdout",
     "output_type": "stream",
     "text": [
      "Send msg : Timestamp:        0.000000        ID: 0001    S                DLC:  4    de 02 00 00\n",
      "Recv msg : Timestamp: 1636616815.862311        ID: 0002    S                DLC:  2    ff 00                       Channel: 1\n"
     ]
    }
   ],
   "source": [
    "xcp_sendrecv([0xDE, 0x02, 0x00, 0x00, ]);"
   ]
  },
  {
   "cell_type": "markdown",
   "metadata": {},
   "source": [
    "## START_STOP_SYNCH mode=01h(start selected)"
   ]
  },
  {
   "cell_type": "code",
   "execution_count": 10,
   "metadata": {
    "scrolled": false
   },
   "outputs": [
    {
     "name": "stdout",
     "output_type": "stream",
     "text": [
      "Send msg : Timestamp:        0.000000        ID: 0001    S                DLC:  2    dd 01\n",
      "Recv msg : Timestamp: 1636616815.878417        ID: 0002    S                DLC:  1    ff                          Channel: 1\n"
     ]
    }
   ],
   "source": [
    "xcp_sendrecv([0xDD, 0x01, ]);"
   ]
  },
  {
   "cell_type": "markdown",
   "metadata": {},
   "source": [
    "## SET_MTA addr=00000004h, addrext=FFh、DOWNLOAD size=4, data=00 11 22 33"
   ]
  },
  {
   "cell_type": "code",
   "execution_count": 11,
   "metadata": {
    "scrolled": true
   },
   "outputs": [
    {
     "name": "stdout",
     "output_type": "stream",
     "text": [
      "Send msg : Timestamp:        0.000000        ID: 0001    S                DLC:  8    f6 00 00 ff 04 00 00 00\n",
      "Recv msg : Timestamp: 1636616815.895702        ID: 0002    S                DLC:  1    ff                          Channel: 1\n",
      "Send msg : Timestamp:        0.000000        ID: 0001    S                DLC:  6    f0 04 00 00 00 00\n",
      "Recv msg : Timestamp: 1636616815.898323        ID: 0002    S                DLC:  1    ff                          Channel: 1\n",
      "wait 0.01[sec]\n",
      "Send msg : Timestamp:        0.000000        ID: 0001    S                DLC:  8    f6 00 00 ff 04 00 00 00\n",
      "Recv msg : Timestamp: 1636616815.921556        ID: 0002    S                DLC:  1    ff                          Channel: 1\n",
      "Send msg : Timestamp:        0.000000        ID: 0001    S                DLC:  6    f0 04 11 22 33 44\n",
      "Recv msg : Timestamp: 1636616815.923891        ID: 0002    S                DLC:  1    ff                          Channel: 1\n",
      "wait 0.01[sec]\n",
      "Send msg : Timestamp:        0.000000        ID: 0001    S                DLC:  8    f6 00 00 ff 04 00 00 00\n",
      "Recv msg : Timestamp: 1636616815.947311        ID: 0002    S                DLC:  1    ff                          Channel: 1\n",
      "Send msg : Timestamp:        0.000000        ID: 0001    S                DLC:  6    f0 04 22 44 66 88\n",
      "Recv msg : Timestamp: 1636616815.953693        ID: 0002    S                DLC:  1    ff                          Channel: 1\n",
      "wait 0.01[sec]\n",
      "Send msg : Timestamp:        0.000000        ID: 0001    S                DLC:  8    f6 00 00 ff 04 00 00 00\n",
      "Recv msg : Timestamp: 1636616815.979383        ID: 0002    S                DLC:  1    ff                          Channel: 1\n",
      "Send msg : Timestamp:        0.000000        ID: 0001    S                DLC:  6    f0 04 33 66 99 cc\n",
      "Recv msg : Timestamp: 1636616815.982185        ID: 0002    S                DLC:  1    ff                          Channel: 1\n",
      "wait 0.01[sec]\n"
     ]
    }
   ],
   "source": [
    "for i in range(4):\n",
    "  xcp_sendrecv([0xF6, 0x00, 0x00, 0xFF, 0x04, 0x00, 0x00, 0x00, ]);\n",
    "  xcp_sendrecv([0xF0, 0x04, 0x11*i, 0x22*i, 0x33*i, 0x44*i, ]);\n",
    "  print(\"wait 0.01[sec]\")\n",
    "  time.sleep(0.01)"
   ]
  },
  {
   "cell_type": "markdown",
   "metadata": {},
   "source": [
    "## START_STOP_SYNCH mode=00h(stop all)"
   ]
  },
  {
   "cell_type": "code",
   "execution_count": 12,
   "metadata": {},
   "outputs": [
    {
     "name": "stdout",
     "output_type": "stream",
     "text": [
      "Send msg : Timestamp:        0.000000        ID: 0001    S                DLC:  2    dd 00\n",
      "Recv msg : Timestamp: 1636616816.019368        ID: 0002    S                DLC:  1    ff                          Channel: 1\n"
     ]
    }
   ],
   "source": [
    "xcp_sendrecv([0xDD, 0x00, ]);"
   ]
  },
  {
   "cell_type": "markdown",
   "metadata": {},
   "source": [
    "## DISCONNECT"
   ]
  },
  {
   "cell_type": "code",
   "execution_count": 13,
   "metadata": {},
   "outputs": [
    {
     "name": "stdout",
     "output_type": "stream",
     "text": [
      "Send msg : Timestamp:        0.000000        ID: 0001    S                DLC:  1    fe\n",
      "Recv msg : Timestamp: 1636616816.038390        ID: 0002    S                DLC:  1    ff                          Channel: 1\n"
     ]
    }
   ],
   "source": [
    "xcp_sendrecv([0xFE, ]);"
   ]
  },
  {
   "cell_type": "code",
   "execution_count": null,
   "metadata": {},
   "outputs": [],
   "source": []
  }
 ],
 "metadata": {
  "kernelspec": {
   "display_name": "Python 3",
   "language": "python",
   "name": "python3"
  },
  "language_info": {
   "codemirror_mode": {
    "name": "ipython",
    "version": 3
   },
   "file_extension": ".py",
   "mimetype": "text/x-python",
   "name": "python",
   "nbconvert_exporter": "python",
   "pygments_lexer": "ipython3",
   "version": "3.7.3"
  }
 },
 "nbformat": 4,
 "nbformat_minor": 4
}
